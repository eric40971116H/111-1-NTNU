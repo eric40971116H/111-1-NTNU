{
 "cells": [
  {
   "cell_type": "markdown",
   "id": "1d5db6a0",
   "metadata": {},
   "source": [
    "資料為系籃比賽的數據，分析兩隊中，成員的得分與命中率\n",
    "此資料可以再加入犯規或數罰球"
   ]
  },
  {
   "cell_type": "code",
   "execution_count": 21,
   "id": "e726f0c9",
   "metadata": {
    "scrolled": false
   },
   "outputs": [
    {
     "name": "stdout",
     "output_type": "stream",
     "text": [
      "<class 'dict'>\n",
      "{'person1': {'name': '甲', 'team': 'A', '出手': {'二分球': {'進球': 4, '沒進': 6}, '三分球': {'進球': 2, '沒進': 8}}, '得分': 14}, 'person2': {'name': '乙', 'team': 'A', '出手': {'二分球': {'進球': 5, '沒進': 1}, '三分球': {'進球': 3, '沒進': 2}}, '得分': 19}, 'person3': {'name': '丙', 'team': 'B', '出手': {'二分球': {'進球': 5, '沒進': 2}, '三分球': {'進球': 3, '沒進': 8}}, '得分': 16}, 'person4': {'name': '丁', 'team': 'B', '出手': {'二分球': {'進球': 8, '沒進': 2}, '三分球': {'進球': 4, '沒進': 9}}, '得分': 28}}\n"
     ]
    }
   ],
   "source": [
    "#匯入資料，轉成dict\n",
    "import json\n",
    "with open(\"02.json\",mode=\"r\",encoding=\"utf-8\") as f:\n",
    "    data= json.load(f)\n",
    "    \n",
    "print(type(data))\n",
    "print(data)"
   ]
  },
  {
   "cell_type": "code",
   "execution_count": 22,
   "id": "75986ebf",
   "metadata": {},
   "outputs": [
    {
     "data": {
      "text/plain": [
       "dict_items([('person1', {'name': '甲', 'team': 'A', '出手': {'二分球': {'進球': 4, '沒進': 6}, '三分球': {'進球': 2, '沒進': 8}}, '得分': 14}), ('person2', {'name': '乙', 'team': 'A', '出手': {'二分球': {'進球': 5, '沒進': 1}, '三分球': {'進球': 3, '沒進': 2}}, '得分': 19}), ('person3', {'name': '丙', 'team': 'B', '出手': {'二分球': {'進球': 5, '沒進': 2}, '三分球': {'進球': 3, '沒進': 8}}, '得分': 16}), ('person4', {'name': '丁', 'team': 'B', '出手': {'二分球': {'進球': 8, '沒進': 2}, '三分球': {'進球': 4, '沒進': 9}}, '得分': 28})])"
      ]
     },
     "execution_count": 22,
     "metadata": {},
     "output_type": "execute_result"
    }
   ],
   "source": [
    "data.items()"
   ]
  },
  {
   "cell_type": "code",
   "execution_count": null,
   "id": "abd030de",
   "metadata": {},
   "outputs": [],
   "source": [
    "winrate = []\n",
    "for i in temp:\n",
    "    winrate.append(i.get(\"勝率\"))"
   ]
  },
  {
   "cell_type": "code",
   "execution_count": 25,
   "id": "e328bfa6",
   "metadata": {},
   "outputs": [
    {
     "name": "stdout",
     "output_type": "stream",
     "text": [
      "{'name': '甲', 'team': 'A', '出手': {'二分球': {'進球': 4, '沒進': 6}, '三分球': {'進球': 2, '沒進': 8}}, '得分': 14}\n",
      "{'name': '乙', 'team': 'A', '出手': {'二分球': {'進球': 5, '沒進': 1}, '三分球': {'進球': 3, '沒進': 2}}, '得分': 19}\n",
      "{'name': '丙', 'team': 'B', '出手': {'二分球': {'進球': 5, '沒進': 2}, '三分球': {'進球': 3, '沒進': 8}}, '得分': 16}\n",
      "{'name': '丁', 'team': 'B', '出手': {'二分球': {'進球': 8, '沒進': 2}, '三分球': {'進球': 4, '沒進': 9}}, '得分': 28}\n"
     ]
    }
   ],
   "source": [
    "#顯示每個球員數據\n",
    "p1=data.get('person1')\n",
    "\n",
    "\n",
    "p2=data.get('person2')\n",
    "p3=data.get('person3')\n",
    "p4=data.get('person4')\n",
    "p=[p1,p2,p3,p4]\n",
    "for i in range(4):\n",
    "    print(p[i])"
   ]
  },
  {
   "cell_type": "code",
   "execution_count": 26,
   "id": "a5e6b9ae",
   "metadata": {},
   "outputs": [
    {
     "name": "stdout",
     "output_type": "stream",
     "text": [
      "['甲', '乙', '丙', '丁']\n"
     ]
    }
   ],
   "source": [
    "#球員姓名\n",
    "\n",
    "n1=p1.get('name')\n",
    "n2=p2.get('name')\n",
    "n3=p3.get('name')\n",
    "n4=p4.get('name')\n",
    "n=[n1,n2,n3,n4]\n",
    "print(n)"
   ]
  },
  {
   "cell_type": "code",
   "execution_count": 28,
   "id": "6f788ad5",
   "metadata": {
    "scrolled": true
   },
   "outputs": [
    {
     "name": "stdout",
     "output_type": "stream",
     "text": [
      "[14, 16, 19, 28]\n"
     ]
    }
   ],
   "source": [
    "#球員的得分數 並排列大小\n",
    "\n",
    "s1=p1.get('得分')\n",
    "s2=p2.get('得分')\n",
    "s3=p3.get('得分')\n",
    "s4=p4.get('得分')\n",
    "s=[s1,s2,s3,s4]\n",
    "print(sorted(s))\n"
   ]
  },
  {
   "cell_type": "code",
   "execution_count": 37,
   "id": "3594a9d1",
   "metadata": {},
   "outputs": [
    {
     "name": "stdout",
     "output_type": "stream",
     "text": [
      "選手 甲 {'二分球': {'進球': 4, '沒進': 6}, '三分球': {'進球': 2, '沒進': 8}} 三分球命中率為 0.25\n",
      "選手 乙 {'二分球': {'進球': 5, '沒進': 1}, '三分球': {'進球': 3, '沒進': 2}} 三分球命中率為 1.5\n",
      "選手 丙 {'二分球': {'進球': 5, '沒進': 2}, '三分球': {'進球': 3, '沒進': 8}} 三分球命中率為 0.375\n",
      "選手 丁 {'二分球': {'進球': 8, '沒進': 2}, '三分球': {'進球': 4, '沒進': 9}} 三分球命中率為 0.4444444444444444\n"
     ]
    }
   ],
   "source": [
    "#由此可算出選手三分球命中率，往後再針對選手做出訓練變化\n",
    "\n",
    "a1=p1.get('出手')  #取出手的數據\n",
    "t1=a1.get('三分球') #取三分球中的數據\n",
    "q1=t1.get('進球') #取三分球 進球數\n",
    "w1=t1.get('沒進')\n",
    "print(\"選手\",n1, a1,\"三分球命中率為\",q1/w1 )\n",
    "\n",
    "a2=p2.get('出手')\n",
    "t2=a2.get('三分球')\n",
    "q2=t2.get('進球') #取三分球 進球數\n",
    "w2=t2.get('沒進')\n",
    "print(\"選手\",n2, a2,\"三分球命中率為\",q2/w2 )\n",
    "\n",
    "a3=p3.get('出手')\n",
    "t3=a3.get('三分球')\n",
    "q3=t3.get('進球') #取三分球 進球數\n",
    "w3=t3.get('沒進')\n",
    "print(\"選手\",n3, a3,\"三分球命中率為\",q3/w3 )\n",
    "\n",
    "a4=p4.get('出手')\n",
    "t4=a4.get('三分球')\n",
    "q4=t4.get('進球') #取三分球 進球數\n",
    "w4=t4.get('沒進')\n",
    "print(\"選手\",n4, a4,\"三分球命中率為\",q4/w4 )\n"
   ]
  },
  {
   "cell_type": "code",
   "execution_count": null,
   "id": "16926139",
   "metadata": {},
   "outputs": [],
   "source": []
  }
 ],
 "metadata": {
  "kernelspec": {
   "display_name": "Python 3 (ipykernel)",
   "language": "python",
   "name": "python3"
  },
  "language_info": {
   "codemirror_mode": {
    "name": "ipython",
    "version": 3
   },
   "file_extension": ".py",
   "mimetype": "text/x-python",
   "name": "python",
   "nbconvert_exporter": "python",
   "pygments_lexer": "ipython3",
   "version": "3.9.12"
  }
 },
 "nbformat": 4,
 "nbformat_minor": 5
}
