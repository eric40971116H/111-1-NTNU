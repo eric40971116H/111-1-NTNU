{
 "cells": [
  {
   "cell_type": "code",
   "execution_count": 48,
   "id": "adcda972",
   "metadata": {},
   "outputs": [
    {
     "name": "stdout",
     "output_type": "stream",
     "text": [
      "交付楊清弦美製貝瑞塔手槍 1支、美製史密斯手槍 1支、制式口徑9mm子彈26顆 、土造金屬子彈 1顆、仿美國COLT廠M1911A1型半自動手槍1支、口徑0.45吋制式子彈1顆\n",
      "\n",
      "['美製貝瑞塔手槍 1支', '美製史密斯手槍 1支', '制式口徑9mm子彈26顆 ', '土造金屬子彈 1顆', '仿美國COLT廠M1911A1型半自動手槍1支', '口徑0.45吋制式子彈1顆']\n"
     ]
    }
   ],
   "source": [
    "#練習0201  法1\n",
    "#因葉益成（已歿）積欠伊賭債新臺幣（下同） 60萬元，交付楊清弦美製貝瑞塔手槍 1支、\n",
    "#美製史密斯手槍 1支、制式口徑9mm子彈26顆 、土造金屬子彈 1顆、仿美國COLT廠\n",
    "#M1911A1型半自動手槍1支、口徑0.45吋制式子彈1顆，而未經許可而持有之。\n",
    "\n",
    "e= \"因葉益成（已歿）積欠伊賭債新臺幣（下同） 60萬元，交付楊清弦美製貝瑞塔手槍 1支、美製史密斯手槍 1支、制式口徑9mm子彈26顆 、土造金屬子彈 1顆、仿美國COLT廠M1911A1型半自動手槍1支、口徑0.45吋制式子彈1顆，而未經許可而持有之。\"\n",
    "list =e.split(\"，\")\n",
    "\n",
    "e = list[1]  #串列 到最後\n",
    "print(e)\n",
    "list = e.split(\"、\")\n",
    "del list[0]  #刪除第一個 list[0]\n",
    "\n",
    "\n",
    "list.insert(0,\"美製貝瑞塔手槍 1支\")\n",
    "print()\n",
    "print(list)"
   ]
  },
  {
   "cell_type": "code",
   "execution_count": 47,
   "id": "66937987",
   "metadata": {},
   "outputs": [
    {
     "name": "stdout",
     "output_type": "stream",
     "text": [
      "['因葉益成（已歿）積欠伊賭債新臺幣（下同） 60萬元', '交付楊清弦美製貝瑞塔手槍 1支、美製史密斯手槍 1支、制式口徑9mm子彈26顆 、土造金屬子彈 1顆、仿美國COLT廠M1911A1型半自動手槍1支、口徑0.45吋制式子彈1顆', '而未經許可而持有之。']\n",
      "\n",
      "['交付楊清弦美製貝瑞塔手槍 1支、美製史密斯手槍 1支、制式口徑9mm子彈26顆 、土造金屬子彈 1顆、仿美國COLT廠M1911A1型半自動手槍1支、口徑0.45吋制式子彈1顆']\n",
      "\n",
      "['交付楊清弦美製貝瑞塔手槍 1支', '美製史密斯手槍 1支', '制式口徑9mm子彈26顆 ', '土造金屬子彈 1顆', '仿美國COLT廠M1911A1型半自動手槍1支', '口徑0.45吋制式子彈1顆']\n",
      "\n",
      "['美製貝瑞塔手槍1支', '美製史密斯手槍 1支', '制式口徑9mm子彈26顆 ', '土造金屬子彈 1顆', '仿美國COLT廠M1911A1型半自動手槍1支', '口徑0.45吋制式子彈1顆']\n"
     ]
    }
   ],
   "source": [
    "#法2\n",
    "d= \"因葉益成（已歿）積欠伊賭債新臺幣（下同） 60萬元，交付楊清弦美製貝瑞塔手槍 1支、美製史密斯手槍 1支、制式口徑9mm子彈26顆 、土造金屬子彈 1顆、仿美國COLT廠M1911A1型半自動手槍1支、口徑0.45吋制式子彈1顆，而未經許可而持有之。\"\n",
    "q=d.split(\"，\")\n",
    "print (q)\n",
    "del q[0]\n",
    "del q[1]\n",
    "print()\n",
    "\n",
    "print (q)\n",
    "qq=q[0].split(\"、\")\n",
    "print()\n",
    "print(qq)\n",
    "print()\n",
    "del qq[0]\n",
    "qq.insert(0,\"美製貝瑞塔手槍1支\")\n",
    "print(qq)\n"
   ]
  },
  {
   "cell_type": "code",
   "execution_count": 78,
   "id": "7f1e4910",
   "metadata": {},
   "outputs": [
    {
     "name": "stdout",
     "output_type": "stream",
     "text": [
      "<zip object at 0x000001E13ADD9BC0>\n",
      "('最高法院民事判例', 7)\n",
      "('最高法院刑事判例', 3)\n",
      "('行政法院判例', 5)\n",
      "('大法官解釋', 4)\n"
     ]
    }
   ],
   "source": [
    "#最高法院民事判例7則 最高法院刑事判例3則 行政法院判例5則 大法官解釋4則\n",
    "t=(\"最高法院民事判例\",\"最高法院刑事判例\",\"行政法院判例\",\"大法官解釋\")\n",
    "s=(7,3,5,4)\n",
    "\n",
    "zipts=zip(t,s)\n",
    "print(zipts)\n",
    "\n",
    "for i in zipts:\n",
    "    print (i)\n",
    "\n",
    "    \n",
    "\n"
   ]
  },
  {
   "cell_type": "code",
   "execution_count": null,
   "id": "c35cf8a3",
   "metadata": {},
   "outputs": [],
   "source": []
  },
  {
   "cell_type": "code",
   "execution_count": null,
   "id": "6fa8fcee",
   "metadata": {},
   "outputs": [],
   "source": []
  },
  {
   "cell_type": "code",
   "execution_count": null,
   "id": "0daa2e22",
   "metadata": {},
   "outputs": [],
   "source": []
  }
 ],
 "metadata": {
  "kernelspec": {
   "display_name": "Python 3 (ipykernel)",
   "language": "python",
   "name": "python3"
  },
  "language_info": {
   "codemirror_mode": {
    "name": "ipython",
    "version": 3
   },
   "file_extension": ".py",
   "mimetype": "text/x-python",
   "name": "python",
   "nbconvert_exporter": "python",
   "pygments_lexer": "ipython3",
   "version": "3.9.12"
  }
 },
 "nbformat": 4,
 "nbformat_minor": 5
}
