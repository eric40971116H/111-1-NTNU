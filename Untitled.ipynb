{
 "cells": [
  {
   "cell_type": "code",
   "execution_count": 1,
   "id": "873d99a3",
   "metadata": {},
   "outputs": [
    {
     "name": "stdout",
     "output_type": "stream",
     "text": [
      "['刑事訴訟法', '中華民國刑法']\n",
      "['第159條之4、第159條之5、第159條之1、第267條、第299條第1項、第302條第1款', '第11條、第38條第1項第1款、第42條第3項、第55條、第56條、第57條、第59條']\n"
     ]
    }
   ],
   "source": [
    "#練204\n",
    "# 刑事訴訟法\n",
    "# 第159條之4、第159條之5、第159條之1、第267條、第299條第1項、第302條第1款\n",
    "# 中華民國刑法\n",
    "# 第11條、第38條第1項第1款、第42條第3項、第55條、第56條、第57條、第59條\n",
    "\n",
    "dic={\"刑事訴訟法\":\"第159條之4、第159條之5、第159條之1、第267條、第299條第1項、第302條第1款\",\n",
    "    \"中華民國刑法\":\"第11條、第38條第1項第1款、第42條第3項、第55條、第56條、第57條、第59條\"}\n",
    "\n",
    "a=list(dic.keys())\n",
    "print(a)\n",
    "b=list(dic.values())\n",
    "print(b)\n"
   ]
  },
  {
   "cell_type": "code",
   "execution_count": null,
   "id": "5a377217",
   "metadata": {},
   "outputs": [],
   "source": []
  }
 ],
 "metadata": {
  "kernelspec": {
   "display_name": "Python 3 (ipykernel)",
   "language": "python",
   "name": "python3"
  },
  "language_info": {
   "codemirror_mode": {
    "name": "ipython",
    "version": 3
   },
   "file_extension": ".py",
   "mimetype": "text/x-python",
   "name": "python",
   "nbconvert_exporter": "python",
   "pygments_lexer": "ipython3",
   "version": "3.9.12"
  }
 },
 "nbformat": 4,
 "nbformat_minor": 5
}
