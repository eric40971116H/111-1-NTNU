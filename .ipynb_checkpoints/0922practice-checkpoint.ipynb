{
 "cells": [
  {
   "cell_type": "code",
   "execution_count": 1,
   "id": "adcda972",
   "metadata": {},
   "outputs": [
    {
     "name": "stdout",
     "output_type": "stream",
     "text": [
      "交付楊清弦美製貝瑞塔手槍 1支、美製史密斯手槍 1支、制式口徑9mm子彈26顆 、土造金屬子彈 1顆、仿美國COLT廠M1911A1型半自動手槍1支、口徑0.45吋制式子彈1顆\n",
      "['美製貝瑞塔手槍 1支', '美製史密斯手槍 1支', '制式口徑9mm子彈26顆 ', '土造金屬子彈 1顆', '仿美國COLT廠M1911A1型半自動手槍1支', '口徑0.45吋制式子彈1顆']\n"
     ]
    }
   ],
   "source": [
    "#練習0201\n",
    "#因葉益成（已歿）積欠伊賭債新臺幣（下同） 60萬元，交付楊清弦美製貝瑞塔手槍 1支、\n",
    "###\n",
    "\n",
    "s = \"因葉益成（已歿）積欠伊賭債新臺幣（下同） 60萬元，交付楊清弦美製貝瑞塔手槍 1支、美製史密斯手槍 1支、制式口徑9mm子彈26顆 、土造金屬子彈 1顆、仿美國COLT廠M1911A1型半自動手槍1支、口徑0.45吋制式子彈1顆，而未經許可而持有之。\"\n",
    "list = s.split(\"，\")\n",
    "s = list[1]\n",
    "print(s)\n",
    "list = s.split(\"、\")\n",
    "del list[0]\n",
    "list.insert(0,\"美製貝瑞塔手槍 1支\")\n",
    "print(list)"
   ]
  },
  {
   "cell_type": "code",
   "execution_count": null,
   "id": "66937987",
   "metadata": {},
   "outputs": [],
   "source": []
  }
 ],
 "metadata": {
  "kernelspec": {
   "display_name": "Python 3 (ipykernel)",
   "language": "python",
   "name": "python3"
  },
  "language_info": {
   "codemirror_mode": {
    "name": "ipython",
    "version": 3
   },
   "file_extension": ".py",
   "mimetype": "text/x-python",
   "name": "python",
   "nbconvert_exporter": "python",
   "pygments_lexer": "ipython3",
   "version": "3.9.12"
  }
 },
 "nbformat": 4,
 "nbformat_minor": 5
}
