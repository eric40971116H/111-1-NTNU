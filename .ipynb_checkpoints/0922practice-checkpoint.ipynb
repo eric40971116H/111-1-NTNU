{
 "cells": [
  {
   "cell_type": "code",
   "execution_count": 28,
   "id": "adcda972",
   "metadata": {},
   "outputs": [
    {
     "name": "stdout",
     "output_type": "stream",
     "text": [
      "交付楊清弦美製貝瑞塔手槍 1支、美製史密斯手槍 1支、制式口徑9mm子彈26顆 、土造金屬子彈 1顆、仿美國COLT廠M1911A1型半自動手槍1支、口徑0.45吋制式子彈1顆\n",
      "\n",
      "['美製貝瑞塔手槍 1支', '美製史密斯手槍 1支', '制式口徑9mm子彈26顆 ', '土造金屬子彈 1顆', '仿美國COLT廠M1911A1型半自動手槍1支', '口徑0.45吋制式子彈1顆']\n"
     ]
    }
   ],
   "source": [
    "#練習0201  法1\n",
    "#因葉益成（已歿）積欠伊賭債新臺幣（下同） 60萬元，交付楊清弦美製貝瑞塔手槍 1支、\n",
    "#美製史密斯手槍 1支、制式口徑9mm子彈26顆 、土造金屬子彈 1顆、仿美國COLT廠\n",
    "#M1911A1型半自動手槍1支、口徑0.45吋制式子彈1顆，而未經許可而持有之。\n",
    "\n",
    "e= \"因葉益成（已歿）積欠伊賭債新臺幣（下同） 60萬元，交付楊清弦美製貝瑞塔手槍 1支、美製史密斯手槍 1支、制式口徑9mm子彈26顆 、土造金屬子彈 1顆、仿美國COLT廠M1911A1型半自動手槍1支、口徑0.45吋制式子彈1顆，而未經許可而持有之。\"\n",
    "list =e.split(\"，\")\n",
    "\n",
    "e = list[1]  #串列 到最後\n",
    "print(e)\n",
    "list = e.split(\"、\")\n",
    "del list[0]  #刪除第一個 list[0]\n",
    "\n",
    "\n",
    "list.insert(0,\"美製貝瑞塔手槍 1支\")\n",
    "print()\n",
    "print(list)"
   ]
  },
  {
   "cell_type": "code",
   "execution_count": 8,
   "id": "66937987",
   "metadata": {},
   "outputs": [
    {
     "name": "stdout",
     "output_type": "stream",
     "text": [
      "['因葉益成（已歿）積欠伊賭債新臺幣（下同） 60萬元', '交付楊清弦美製貝瑞塔手槍 1支、美製史密斯手槍 1支、制式口徑9mm子彈26顆 、土造金屬子彈 1顆、仿美國COLT廠M1911A1型半自動手槍1支、口徑0.45吋制式子彈1顆', '而未經許可而持有之。']\n",
      "['交付楊清弦美製貝瑞塔手槍 1支、美製史密斯手槍 1支、制式口徑9mm子彈26顆 、土造金屬子彈 1顆、仿美國COLT廠M1911A1型半自動手槍1支、口徑0.45吋制式子彈1顆']\n",
      "\n",
      "['交付楊清弦美製貝瑞塔手槍 1支', '美製史密斯手槍 1支', '制式口徑9mm子彈26顆 ', '土造金屬子彈 1顆', '仿美國COLT廠M1911A1型半自動手槍1支', '口徑0.45吋制式子彈1顆']\n",
      "\n",
      "['美製貝瑞塔手槍1支', '美製史密斯手槍 1支', '制式口徑9mm子彈26顆 ', '土造金屬子彈 1顆', '仿美國COLT廠M1911A1型半自動手槍1支', '口徑0.45吋制式子彈1顆']\n"
     ]
    }
   ],
   "source": [
    "#法2\n",
    "d= \"因葉益成（已歿）積欠伊賭債新臺幣（下同） 60萬元，交付楊清弦美製貝瑞塔手槍 1支、美製史密斯手槍 1支、制式口徑9mm子彈26顆 、土造金屬子彈 1顆、仿美國COLT廠M1911A1型半自動手槍1支、口徑0.45吋制式子彈1顆，而未經許可而持有之。\"\n",
    "q=d.split(\"，\")\n",
    "print (q)\n",
    "del q[0]\n",
    "del q[1]\n",
    "print(q)\n",
    "\n",
    "\n",
    "qq=q[0].split(\"、\")\n",
    "print()\n",
    "print(qq)\n",
    "print()\n",
    "del qq[0]\n",
    "qq.insert(0,\"美製貝瑞塔手槍1支\")\n",
    "print(qq)\n"
   ]
  },
  {
   "cell_type": "code",
   "execution_count": 28,
   "id": "dbbdab6e",
   "metadata": {},
   "outputs": [
    {
     "name": "stdout",
     "output_type": "stream",
     "text": [
      "('最高法院民事判例', '最高法院刑事判例', '行政法院判例')\n",
      "[('最高法院民事判例', 7), ('最高法院刑事判例', 3), ('行政法院判例', 5)]\n",
      "['最高法院民事判例', '最高法院刑事判例', '行政法院判例', '大法官解釋']\n"
     ]
    }
   ],
   "source": [
    "#練202\n",
    "#最高法院民事判例7則 最高法院刑事判例3則 行政法院判例5則 大法官解釋4則\n",
    "t =\"最高法院民事判例\",\"最高法院刑事判例\",\"行政法院判例\",\"大法官解釋\"\n",
    "s =7,3,5,4\n",
    "t1=t[:3]\n",
    "print(t1)\n",
    "zipt1s=zip(t1,s)\n",
    "print(list(zipt1s))\n",
    "\n",
    "for i in zipt1s:\n",
    "    print (i)\n",
    "\n",
    "\n",
    "\n",
    "\n",
    "    \n",
    "\n"
   ]
  },
  {
   "cell_type": "code",
   "execution_count": 4,
   "id": "98af185b",
   "metadata": {},
   "outputs": [],
   "source": [
    "#練203"
   ]
  },
  {
   "cell_type": "code",
   "execution_count": 96,
   "id": "cb47ca6d",
   "metadata": {},
   "outputs": [
    {
     "name": "stdout",
     "output_type": "stream",
     "text": [
      "{'沒收', '罰金', '褫奪公權', '有期徒刑有期徒刑', '無期徒刑'}\n",
      "{'褫奪公權', '無期徒刑'}\n",
      "{'罰金'}\n",
      "True True\n"
     ]
    }
   ],
   "source": [
    "a={'有期徒刑有期徒刑','沒收','罰金'}\n",
    "b={'無期徒刑','罰金','褫奪公權'}\n",
    "\n",
    "s=a|b\n",
    "print(s)\n",
    "\n",
    "s=b-a\n",
    "print(s)\n",
    "\n",
    "#ab共同\n",
    "print(a&b)\n",
    "print('罰金' in a,'罰金' in b )"
   ]
  },
  {
   "cell_type": "code",
   "execution_count": 52,
   "id": "cee6292f",
   "metadata": {},
   "outputs": [
    {
     "name": "stdout",
     "output_type": "stream",
     "text": [
      "['刑事訴訟法', '中華民國刑法']\n",
      "[['第159條之4', '第159條之5', '第159條之1', '第267條', '第299條第1項', '第302條第1款'], ['第11條', '第38條第1項第1款', '第42條第3項', '第55條', '第56條', '第57條', '第59條']]\n",
      "==============================\n",
      "刑事訴訟法 : 第267條\n",
      "==============================\n",
      "{'刑事訴訟法': ['第159條之4', '第159條之5', '第159條之1', '第267條', '第299條第1項', '第302條第1款'], '中華民國刑法': ['第11條', '第38條第1項第1款', '第42條第3項', '第55條', '第56條', '第57條', '第59條', '第62條']}\n"
     ]
    }
   ],
   "source": [
    "#練204\n",
    "# 刑事訴訟法\n",
    "# 第159條之4、第159條之5、第159條之1、第267條、第299條第1項、第302條第1款\n",
    "# 中華民國刑法\n",
    "# 第11條、第38條第1項第1款、第42條第3項、第55條、第56條、第57條、第59條\n",
    "\n",
    "d={\"刑事訴訟法\":[\"第159條之4\",\"第159條之5\",\"第159條之1\",\"第267條\",\"第299條第1項\",\"第302條第1款\"],\n",
    "    \"中華民國刑法\":[\"第11條\",\"第38條第1項第1款\",\"第42條第3項\",\"第55條\",\"第56條\",\"第57條\",\"第59條\"]}\n",
    "\n",
    "\n",
    "a=list(d.keys())\n",
    "print(a)\n",
    "b=list(d.values())\n",
    "print(b)\n",
    "\n",
    "print(30*\"=\")\n",
    "\n",
    "print(a[0],\":\",d.get(\"刑事訴訟法\")[3])\n",
    "\n",
    "print(30*\"=\")\n",
    "\n",
    "d[\"中華民國刑法\"]=[\"第11條\",\"第38條第1項第1款\",\"第42條第3項\",\"第55條\",\"第56條\",\"第57條\",\"第59條\",\"第62條\"]\n",
    "print(d)\n"
   ]
  },
  {
   "cell_type": "code",
   "execution_count": null,
   "id": "0edc36ae",
   "metadata": {
    "scrolled": true
   },
   "outputs": [],
   "source": []
  },
  {
   "cell_type": "code",
   "execution_count": null,
   "id": "41026c89",
   "metadata": {},
   "outputs": [],
   "source": []
  },
  {
   "cell_type": "code",
   "execution_count": null,
   "id": "e36cb93e",
   "metadata": {},
   "outputs": [],
   "source": []
  },
  {
   "cell_type": "code",
   "execution_count": null,
   "id": "b9e93c61",
   "metadata": {},
   "outputs": [],
   "source": []
  }
 ],
 "metadata": {
  "kernelspec": {
   "display_name": "Python 3 (ipykernel)",
   "language": "python",
   "name": "python3"
  },
  "language_info": {
   "codemirror_mode": {
    "name": "ipython",
    "version": 3
   },
   "file_extension": ".py",
   "mimetype": "text/x-python",
   "name": "python",
   "nbconvert_exporter": "python",
   "pygments_lexer": "ipython3",
   "version": "3.9.12"
  }
 },
 "nbformat": 4,
 "nbformat_minor": 5
}
