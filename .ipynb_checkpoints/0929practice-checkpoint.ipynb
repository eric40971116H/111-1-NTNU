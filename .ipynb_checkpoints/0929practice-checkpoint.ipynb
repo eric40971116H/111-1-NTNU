{
 "cells": [
  {
   "cell_type": "code",
   "execution_count": 31,
   "id": "b3e5e96e",
   "metadata": {},
   "outputs": [
    {
     "name": "stdout",
     "output_type": "stream",
     "text": [
      "{'電子組': ['工程數學', '電子學', '計算機組織', '報考人數300'], '通訊組': ['線性代數', '機率學', '通訊原理', '報考人數150']}\n",
      "['電子組', '通訊組']\n",
      "[['工程數學', '電子學', '計算機組織', '報考人數300'], ['線性代數', '機率學', '通訊原理', '報考人數150']]\n"
     ]
    }
   ],
   "source": [
    "d={\"電子組\":['工程數學','電子學','計算機組織','報考人數300'],\"通訊組\":['線性代數','機率學','通訊原理','報考人數150']}\n",
    "print(d)\n",
    "\n",
    "ls=list(d.keys())\n",
    "ls2=list(d.values())\n",
    "print(ls)\n",
    "print(ls2)"
   ]
  },
  {
   "cell_type": "code",
   "execution_count": null,
   "id": "20087816",
   "metadata": {},
   "outputs": [],
   "source": []
  },
  {
   "cell_type": "code",
   "execution_count": null,
   "id": "9bf92ad9",
   "metadata": {},
   "outputs": [],
   "source": []
  },
  {
   "cell_type": "code",
   "execution_count": null,
   "id": "c558fa2d",
   "metadata": {},
   "outputs": [],
   "source": []
  },
  {
   "cell_type": "code",
   "execution_count": null,
   "id": "81d6a550",
   "metadata": {},
   "outputs": [],
   "source": []
  }
 ],
 "metadata": {
  "kernelspec": {
   "display_name": "Python 3 (ipykernel)",
   "language": "python",
   "name": "python3"
  },
  "language_info": {
   "codemirror_mode": {
    "name": "ipython",
    "version": 3
   },
   "file_extension": ".py",
   "mimetype": "text/x-python",
   "name": "python",
   "nbconvert_exporter": "python",
   "pygments_lexer": "ipython3",
   "version": "3.9.12"
  }
 },
 "nbformat": 4,
 "nbformat_minor": 5
}
