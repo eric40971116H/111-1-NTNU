{
 "cells": [
  {
   "cell_type": "code",
   "execution_count": 18,
   "id": "56eff057",
   "metadata": {},
   "outputs": [
    {
     "name": "stdout",
     "output_type": "stream",
     "text": [
      "原告賠償 7706 被告賠償 17981\n"
     ]
    }
   ],
   "source": [
    "#第一題:總賠償25688 被告7 原告3\n",
    "money=25688\n",
    "rate1=0.3\n",
    "rate2=0.7\n",
    "a=int(money*0.7)\n",
    "b=int(money*0.3)\n",
    "print(\"原告賠償\",b,\"被告賠償\",a)"
   ]
  },
  {
   "cell_type": "code",
   "execution_count": null,
   "id": "d90123c7",
   "metadata": {},
   "outputs": [],
   "source": [
    "#第二題:原11805 0119   0319 \n",
    "a=11805\n",
    "rate=0.0005\n",
    "b=a*(rate+1)**59+300+150\n",
    "print(\"共賠償\",int(b))"
   ]
  },
  {
   "cell_type": "code",
   "execution_count": 2,
   "id": "c5b486f5",
   "metadata": {},
   "outputs": [
    {
     "name": "stdout",
     "output_type": "stream",
     "text": [
      "輸入案件被告闖紅燈\n",
      "被告賠100%\n"
     ]
    }
   ],
   "source": [
    "#第三題: \n",
    "event=input(\"輸入案件\")\n",
    "if event==\"被告闖紅燈\":\n",
    "    print(\"被告賠100%\") \n",
    "elif event==\"原告闖紅燈\":\n",
    "    print(\"原告多被告少\")\n",
    "elif event==\"皆闖紅燈\":\n",
    "    print(\"原告50% 被告50%\")\n",
    "    \n",
    "else:\n",
    "    print(\"請輸入有效訊息\")\n",
    "        "
   ]
  },
  {
   "cell_type": "code",
   "execution_count": null,
   "id": "e7a98519",
   "metadata": {},
   "outputs": [],
   "source": []
  },
  {
   "cell_type": "code",
   "execution_count": null,
   "id": "cbe539ea",
   "metadata": {},
   "outputs": [],
   "source": []
  },
  {
   "cell_type": "code",
   "execution_count": null,
   "id": "6f2fec13",
   "metadata": {},
   "outputs": [],
   "source": []
  },
  {
   "cell_type": "code",
   "execution_count": null,
   "id": "06cab0bd",
   "metadata": {},
   "outputs": [],
   "source": []
  },
  {
   "cell_type": "code",
   "execution_count": null,
   "id": "742b7435",
   "metadata": {},
   "outputs": [],
   "source": []
  }
 ],
 "metadata": {
  "kernelspec": {
   "display_name": "Python 3 (ipykernel)",
   "language": "python",
   "name": "python3"
  },
  "language_info": {
   "codemirror_mode": {
    "name": "ipython",
    "version": 3
   },
   "file_extension": ".py",
   "mimetype": "text/x-python",
   "name": "python",
   "nbconvert_exporter": "python",
   "pygments_lexer": "ipython3",
   "version": "3.9.12"
  }
 },
 "nbformat": 4,
 "nbformat_minor": 5
}
