{
 "cells": [
  {
   "cell_type": "code",
   "execution_count": 11,
   "id": "ec96ca08",
   "metadata": {},
   "outputs": [],
   "source": [
    "d= {\n",
    "    \n",
    "'person1': {'name':'甲',\n",
    "           'team':'A',\n",
    "           '出手':{\n",
    "               '二分球':{\n",
    "                '進球':4,\n",
    "                '沒進':6\n",
    "               },\n",
    "               '三分球':{\n",
    "                '進球':2,\n",
    "                '沒進':8\n",
    "\n",
    "           }},\n",
    "           '得分':14\n",
    "           },\n",
    "'person2': {'name':'乙',\n",
    "           'team':'A',\n",
    "           '出手':{\n",
    "               '二分球':{\n",
    "                '進球':1,\n",
    "                '沒進':6\n",
    "               },\n",
    "               '三分球':{\n",
    "                '進球':2,\n",
    "                '沒進':8\n",
    "\n",
    "           }},\n",
    "           '得分':8\n",
    "           },\n",
    "'person3': {'name':'丙',\n",
    "           'team':'B',\n",
    "           '出手':{\n",
    "               '二分球':{\n",
    "                '進球':7,\n",
    "                '沒進':6\n",
    "               },\n",
    "               '三分球':{\n",
    "                '進球':2,\n",
    "                '沒進':8\n",
    "\n",
    "           }},\n",
    "           '得分':20\n",
    "           },\n",
    "'person4': {'name':'丁',\n",
    "           'team':'B',\n",
    "           '出手':{\n",
    "               '二分球':{\n",
    "                '進球':6,\n",
    "                '沒進':6\n",
    "               },\n",
    "               '三分球':{\n",
    "                '進球':7,\n",
    "                '沒進':1\n",
    "\n",
    "           }},\n",
    "           '得分':33\n",
    "           }\n",
    "\n",
    "}"
   ]
  },
  {
   "cell_type": "code",
   "execution_count": 12,
   "id": "4c8360c2",
   "metadata": {},
   "outputs": [],
   "source": []
  },
  {
   "cell_type": "code",
   "execution_count": 13,
   "id": "15b079a7",
   "metadata": {},
   "outputs": [
    {
     "data": {
      "text/plain": [
       "dict"
      ]
     },
     "execution_count": 13,
     "metadata": {},
     "output_type": "execute_result"
    }
   ],
   "source": [
    "type(d)"
   ]
  },
  {
   "cell_type": "code",
   "execution_count": 17,
   "id": "772e98ab",
   "metadata": {},
   "outputs": [],
   "source": [
    "p={\n",
    "    \n",
    "\"person1\": {\"name\":\"甲\",\n",
    "           \"team\":\"A\",\n",
    "           \"出手\":{\n",
    "               \"二分球\":{\n",
    "                \"進球\":4,\n",
    "                \"沒進\":6\n",
    "               },\n",
    "               \"三分球\":{\n",
    "                \"進球\":2,\n",
    "                \"沒進\":8\n",
    "\n",
    "           }},\n",
    "           \"得分\":14\n",
    "           },\n",
    "\"person2\": {\"name\":\"乙\",\n",
    "           \"team\":\"A\",\n",
    "           \"出手\":{\n",
    "               \"二分球\":{\n",
    "                \"進球\":5,\n",
    "                \"沒進\":1\n",
    "               },\n",
    "               \"三分球\":{\n",
    "                \"進球\":3,\n",
    "                \"沒進\":2\n",
    "\n",
    "           }},\n",
    "           \"得分\":19\n",
    "           },\n",
    "\"person3\": {\"name\":\"丙\",\n",
    "           \"team\":\"B\",\n",
    "           \"出手\":{\n",
    "               \"二分球\":{\n",
    "                \"進球\":5,\n",
    "                \"沒進\":2\n",
    "               },\n",
    "               \"三分球\":{\n",
    "                \"進球\":3,\n",
    "                \"沒進\":8\n",
    "\n",
    "           }},\n",
    "           \"得分\":16\n",
    "           },\n",
    "\"person4\": {\"name\":\"丁\",\n",
    "           \"team\":\"B\",\n",
    "           \"出手\":{\n",
    "               \"二分球\":{\n",
    "                \"進球\":8,\n",
    "                \"沒進\":2\n",
    "               },\n",
    "               \"三分球\":{\n",
    "                \"進球\":4,\n",
    "                \"沒進\":9\n",
    "\n",
    "           }},\n",
    "           \"得分\":28\n",
    "           }\n",
    "}"
   ]
  },
  {
   "cell_type": "code",
   "execution_count": 15,
   "id": "feb218eb",
   "metadata": {},
   "outputs": [
    {
     "data": {
      "text/plain": [
       "dict"
      ]
     },
     "execution_count": 15,
     "metadata": {},
     "output_type": "execute_result"
    }
   ],
   "source": [
    "type(p)"
   ]
  },
  {
   "cell_type": "code",
   "execution_count": null,
   "id": "7ba0662e",
   "metadata": {},
   "outputs": [],
   "source": []
  }
 ],
 "metadata": {
  "kernelspec": {
   "display_name": "Python 3 (ipykernel)",
   "language": "python",
   "name": "python3"
  },
  "language_info": {
   "codemirror_mode": {
    "name": "ipython",
    "version": 3
   },
   "file_extension": ".py",
   "mimetype": "text/x-python",
   "name": "python",
   "nbconvert_exporter": "python",
   "pygments_lexer": "ipython3",
   "version": "3.9.12"
  }
 },
 "nbformat": 4,
 "nbformat_minor": 5
}
