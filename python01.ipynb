{
 "cells": [
  {
   "cell_type": "code",
   "execution_count": 18,
   "id": "41797422",
   "metadata": {},
   "outputs": [
    {
     "name": "stdout",
     "output_type": "stream",
     "text": [
      "原告賠償 7706 被告賠償 17981\n"
     ]
    }
   ],
   "source": [
    "#第一題:總賠償25688 被告7 原告3\n",
    "money=25688\n",
    "rate1=0.3\n",
    "rate2=0.7\n",
    "a=int(money*0.7)\n",
    "b=int(money*0.3)\n",
    "print(\"原告賠償\",b,\"被告賠償\",a)"
   ]
  },
  {
   "cell_type": "code",
   "execution_count": 23,
   "id": "4dda00fb",
   "metadata": {},
   "outputs": [
    {
     "name": "stdout",
     "output_type": "stream",
     "text": [
      "共賠償 12608\n"
     ]
    }
   ],
   "source": [
    "#第二題:原11805 0119   0319 \n",
    "a=11805\n",
    "rate=0.0005\n",
    "b=a*(rate+1)**59+300+150\n",
    "print(\"共賠償\",int(b))"
   ]
  },
  {
   "cell_type": "code",
   "execution_count": 29,
   "id": "6a8f1790",
   "metadata": {},
   "outputs": [
    {
     "ename": "SyntaxError",
     "evalue": "invalid syntax (1258276739.py, line 5)",
     "output_type": "error",
     "traceback": [
      "\u001b[1;36m  Input \u001b[1;32mIn [29]\u001b[1;36m\u001b[0m\n\u001b[1;33m    else if event==\"原告闖紅燈\":\u001b[0m\n\u001b[1;37m         ^\u001b[0m\n\u001b[1;31mSyntaxError\u001b[0m\u001b[1;31m:\u001b[0m invalid syntax\n"
     ]
    }
   ],
   "source": [
    "#第三題: \n",
    "event=input(\"輸入案件\")\n",
    "if event==\"被告闖紅燈\":\n",
    "    print(\"被告賠100%\") \n",
    "elif event==\"原告闖紅燈\":\n",
    "print(\"原告多被告少\")\n",
    "elseif event==\"皆闖紅燈\":\n",
    "print(\"原告50% 被告50%\")\n",
    "else \n",
    "print(\"輸入有效訊息\")\n",
    "        "
   ]
  },
  {
   "cell_type": "code",
   "execution_count": null,
   "id": "53ee2d84",
   "metadata": {},
   "outputs": [],
   "source": []
  },
  {
   "cell_type": "code",
   "execution_count": null,
   "id": "52b138bf",
   "metadata": {},
   "outputs": [],
   "source": []
  },
  {
   "cell_type": "code",
   "execution_count": null,
   "id": "4ea4c6e4",
   "metadata": {},
   "outputs": [],
   "source": []
  },
  {
   "cell_type": "code",
   "execution_count": null,
   "id": "30b85b61",
   "metadata": {},
   "outputs": [],
   "source": []
  },
  {
   "cell_type": "code",
   "execution_count": null,
   "id": "ac5ce436",
   "metadata": {},
   "outputs": [],
   "source": []
  }
 ],
 "metadata": {
  "kernelspec": {
   "display_name": "Python 3 (ipykernel)",
   "language": "python",
   "name": "python3"
  },
  "language_info": {
   "codemirror_mode": {
    "name": "ipython",
    "version": 3
   },
   "file_extension": ".py",
   "mimetype": "text/x-python",
   "name": "python",
   "nbconvert_exporter": "python",
   "pygments_lexer": "ipython3",
   "version": "3.9.12"
  }
 },
 "nbformat": 4,
 "nbformat_minor": 5
}
